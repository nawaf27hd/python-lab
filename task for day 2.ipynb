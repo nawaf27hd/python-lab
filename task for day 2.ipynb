{
 "cells": [
  {
   "cell_type": "code",
   "execution_count": 1,
   "metadata": {},
   "outputs": [
    {
     "name": "stdout",
     "output_type": "stream",
     "text": [
      "please enter any number that u like :  4\n",
      "4.0\n",
      "please enter another number that u like :  35\n",
      "35.0\n",
      "39.0\n"
     ]
    }
   ],
   "source": [
    "num1 = float(input(\"please enter any number that u like :  \"))\n",
    "print(num1)\n",
    "num2 = float(input(\"please enter another number that u like :  \"))\n",
    "print(num2)\n",
    "sumNum = num1 + num2 \n",
    "print (sumNum)"
   ]
  },
  {
   "cell_type": "code",
   "execution_count": 2,
   "metadata": {},
   "outputs": [
    {
     "name": "stdout",
     "output_type": "stream",
     "text": [
      "please enter  number an a range 0-10 and i will till u if it corect or not 3\n",
      "too low \n",
      "please enter another number65\n",
      "wronge inter \n",
      "please enter another number10\n",
      "u got it\n"
     ]
    }
   ],
   "source": [
    "theNumber = 10 \n",
    "guess = int(input(\"please enter  number an a range 0-10 and i will till u if it corect or not \"))\n",
    "while guess != theNumber:\n",
    "    if guess > 10:\n",
    "        print (\"wronge inter \")\n",
    "    if guess < 10:\n",
    "        print (\"too low \")\n",
    "    guess = int(input(\"please enter another number\"))  \n",
    "    if guess == theNumber:\n",
    "        print (\"u got it\")"
   ]
  },
  {
   "cell_type": "code",
   "execution_count": null,
   "metadata": {},
   "outputs": [],
   "source": [
    "x = \"python\\n\"\n",
    "m = x*100\n",
    "print  (m)"
   ]
  }
 ],
 "metadata": {
  "kernelspec": {
   "display_name": "Python 3",
   "language": "python",
   "name": "python3"
  },
  "language_info": {
   "codemirror_mode": {
    "name": "ipython",
    "version": 3
   },
   "file_extension": ".py",
   "mimetype": "text/x-python",
   "name": "python",
   "nbconvert_exporter": "python",
   "pygments_lexer": "ipython3",
   "version": "3.8.5"
  }
 },
 "nbformat": 4,
 "nbformat_minor": 4
}
